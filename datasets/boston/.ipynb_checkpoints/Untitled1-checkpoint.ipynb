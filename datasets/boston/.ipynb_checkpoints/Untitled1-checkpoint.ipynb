{
 "cells": [
  {
   "cell_type": "code",
   "execution_count": 3,
   "metadata": {},
   "outputs": [],
   "source": [
    "import pandas as pd\n",
    "import numpy as np\n",
    "import matplotlib.pyplot as plt\n",
    "import seaborn as sns\n",
    "sns.set()\n",
    "from sklearn.linear_model import LinearRegression \n",
    "from sklearn.model_selection import train_test_split\n",
    "from sklearn.metrics import r2_score, mean_squared_error\n",
    "from sklearn.preprocessing import StandardScaler"
   ]
  },
  {
   "cell_type": "code",
   "execution_count": 6,
   "metadata": {},
   "outputs": [
    {
     "name": "stdout",
     "output_type": "stream",
     "text": [
      "Hello my name is John\n"
     ]
    }
   ],
   "source": [
    "class TestClass:\n",
    "    def __init__(mysillyobject, name, age):\n",
    "        mysillyobject.name = name\n",
    "        mysillyobject.age = age\n",
    "    \n",
    "    def myfunc(abc):\n",
    "        print(\"Hello my name is \" + abc.name)\n",
    "    \n",
    "    def word_counts(data, column_name, splitter,drop_bool):\n",
    "        new_columns = 'sum' + column_name\n",
    "        for index in range(len(data[column_name])):\n",
    "            data.loc[index, new_columns] = data.loc[index, column_name].count(splitter) + 1 #Count ',' + 1 to count words in data\n",
    "        if drop_bool:\n",
    "            data = data.drop([column_name],axis=1)\n",
    "        return data\n",
    "    def boolean_map(data,column_name):\n",
    "        for index in range(len(data[column_name])):\n",
    "        #Replace old value\n",
    "            if pd.isnull(data.loc[index, column_name]):\n",
    "                data.loc[index, column_name] = False\n",
    "            else:\n",
    "                data.loc[index, column_name] = True\n",
    "        return data\n",
    "    def remove_outliner(num, symbol):\n",
    "        if num == 0.99:\n",
    "            if symbol == True:\n",
    "                q = data['accommodates'].quantile(0.99)\n",
    "                data_tmp = data[data['accommodates']<q]\n",
    "                sns.distplot(selected_data3['accommodates'])\n",
    "        elif num ==0.01\n",
    "        return data\n",
    "p1 = Person(\"John\", 36)\n",
    "p1.myfunc()"
   ]
  },
  {
   "cell_type": "code",
   "execution_count": 16,
   "metadata": {},
   "outputs": [
    {
     "data": {
      "text/plain": [
       "'ye'"
      ]
     },
     "execution_count": 16,
     "metadata": {},
     "output_type": "execute_result"
    }
   ],
   "source": [
    "def boolean_map2(data, s='x'):\n",
    "    a = data + s\n",
    "    return a \n",
    "z = boolean_map2('y','e')\n",
    "z"
   ]
  },
  {
   "cell_type": "code",
   "execution_count": 14,
   "metadata": {},
   "outputs": [
    {
     "data": {
      "text/plain": [
       "'y'"
      ]
     },
     "execution_count": 14,
     "metadata": {},
     "output_type": "execute_result"
    }
   ],
   "source": []
  },
  {
   "cell_type": "code",
   "execution_count": null,
   "metadata": {},
   "outputs": [],
   "source": []
  }
 ],
 "metadata": {
  "kernelspec": {
   "display_name": "Python 3",
   "language": "python",
   "name": "python3"
  },
  "language_info": {
   "codemirror_mode": {
    "name": "ipython",
    "version": 3
   },
   "file_extension": ".py",
   "mimetype": "text/x-python",
   "name": "python",
   "nbconvert_exporter": "python",
   "pygments_lexer": "ipython3",
   "version": "3.7.6"
  }
 },
 "nbformat": 4,
 "nbformat_minor": 4
}
